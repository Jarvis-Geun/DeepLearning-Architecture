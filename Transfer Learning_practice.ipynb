{
 "cells": [
  {
   "cell_type": "markdown",
   "id": "fb08327a",
   "metadata": {},
   "source": [
    "https://pytorch.org/tutorials/beginner/transfer_learning_tutorial.html"
   ]
  },
  {
   "cell_type": "markdown",
   "id": "9552d665",
   "metadata": {},
   "source": [
    "## Import module"
   ]
  },
  {
   "cell_type": "code",
   "execution_count": 1,
   "id": "2729875c",
   "metadata": {
    "ExecuteTime": {
     "end_time": "2021-08-10T12:29:55.273801Z",
     "start_time": "2021-08-10T12:29:54.535883Z"
    }
   },
   "outputs": [
    {
     "data": {
      "text/plain": [
       "<matplotlib.pyplot._IonContext at 0x229ae6aca00>"
      ]
     },
     "execution_count": 1,
     "metadata": {},
     "output_type": "execute_result"
    }
   ],
   "source": [
    "from __future__ import print_function, division\n",
    "\n",
    "import torch\n",
    "import torch.nn as nn\n",
    "import torch.optim as optim\n",
    "from torch.optim import lr_scheduler\n",
    "import numpy as np\n",
    "import torchvision\n",
    "from torchvision import datasets, models, transforms\n",
    "import matplotlib.pyplot as plt\n",
    "import time\n",
    "import os\n",
    "import copy\n",
    "\n",
    "plt.ion()   # interactive mode"
   ]
  },
  {
   "cell_type": "markdown",
   "id": "22c07bfb",
   "metadata": {},
   "source": [
    "from __future__ import print_function\n",
    "\n",
    "=> https://wotres.tistory.com/entry/from-future-%EB%AA%A8%EB%93%88-%EC%82%AC%EC%9A%A9-%EC%9D%B4%EC%9C%A0\n",
    "\n",
    "=> https://docs.python.org/ko/3/library/__future__.html\n",
    "\n"
   ]
  },
  {
   "cell_type": "markdown",
   "id": "aaa46e55",
   "metadata": {},
   "source": [
    "## Data Load"
   ]
  },
  {
   "cell_type": "code",
   "execution_count": 2,
   "id": "9ca3fc67",
   "metadata": {
    "ExecuteTime": {
     "end_time": "2021-08-10T12:29:55.305646Z",
     "start_time": "2021-08-10T12:29:55.274793Z"
    }
   },
   "outputs": [],
   "source": [
    "# Data augmentation and normalization for training\n",
    "# Just normalization for validation\n",
    "data_transforms = {\n",
    "    'train': transforms.Compose([\n",
    "        transforms.RandomResizedCrop(224),\n",
    "        transforms.RandomHorizontalFlip(),\n",
    "        transforms.ToTensor(),\n",
    "        transforms.Normalize([0.485, 0.456, 0.406], [0.229, 0.224, 0.225])\n",
    "    ]),\n",
    "    'val': transforms.Compose([\n",
    "        transforms.Resize(256),\n",
    "        transforms.CenterCrop(224),\n",
    "        transforms.ToTensor(),\n",
    "        transforms.Normalize([0.485, 0.456, 0.406], [0.229, 0.224, 0.225])\n",
    "    ]),\n",
    "}\n",
    "\n",
    "data_dir = 'hymenoptera_data'\n",
    "image_datasets = {x: datasets.ImageFolder(os.path.join(data_dir, x),\n",
    "                                          data_transforms[x])\n",
    "                  for x in ['train', 'val']}\n",
    "dataloaders = {x: torch.utils.data.DataLoader(image_datasets[x], batch_size=4,\n",
    "                                             shuffle=True, num_workers=4)\n",
    "              for x in ['train', 'val']}\n",
    "dataset_sizes = {x: len(image_datasets[x]) for x in ['train', 'val']}\n",
    "class_names = image_datasets['train'].classes\n",
    "\n",
    "device = torch.device(\"cuda:0\" if torch.cuda.is_available() else \"cpu\")"
   ]
  },
  {
   "cell_type": "code",
   "execution_count": 5,
   "id": "68887e6d",
   "metadata": {},
   "outputs": [
    {
     "name": "stdout",
     "output_type": "stream",
     "text": [
      "Help on list object:\n",
      "\n",
      "class list(object)\n",
      " |  list(iterable=(), /)\n",
      " |  \n",
      " |  Built-in mutable sequence.\n",
      " |  \n",
      " |  If no argument is given, the constructor creates a new empty list.\n",
      " |  The argument must be an iterable if specified.\n",
      " |  \n",
      " |  Methods defined here:\n",
      " |  \n",
      " |  __add__(self, value, /)\n",
      " |      Return self+value.\n",
      " |  \n",
      " |  __contains__(self, key, /)\n",
      " |      Return key in self.\n",
      " |  \n",
      " |  __delitem__(self, key, /)\n",
      " |      Delete self[key].\n",
      " |  \n",
      " |  __eq__(self, value, /)\n",
      " |      Return self==value.\n",
      " |  \n",
      " |  __ge__(self, value, /)\n",
      " |      Return self>=value.\n",
      " |  \n",
      " |  __getattribute__(self, name, /)\n",
      " |      Return getattr(self, name).\n",
      " |  \n",
      " |  __getitem__(...)\n",
      " |      x.__getitem__(y) <==> x[y]\n",
      " |  \n",
      " |  __gt__(self, value, /)\n",
      " |      Return self>value.\n",
      " |  \n",
      " |  __iadd__(self, value, /)\n",
      " |      Implement self+=value.\n",
      " |  \n",
      " |  __imul__(self, value, /)\n",
      " |      Implement self*=value.\n",
      " |  \n",
      " |  __init__(self, /, *args, **kwargs)\n",
      " |      Initialize self.  See help(type(self)) for accurate signature.\n",
      " |  \n",
      " |  __iter__(self, /)\n",
      " |      Implement iter(self).\n",
      " |  \n",
      " |  __le__(self, value, /)\n",
      " |      Return self<=value.\n",
      " |  \n",
      " |  __len__(self, /)\n",
      " |      Return len(self).\n",
      " |  \n",
      " |  __lt__(self, value, /)\n",
      " |      Return self<value.\n",
      " |  \n",
      " |  __mul__(self, value, /)\n",
      " |      Return self*value.\n",
      " |  \n",
      " |  __ne__(self, value, /)\n",
      " |      Return self!=value.\n",
      " |  \n",
      " |  __repr__(self, /)\n",
      " |      Return repr(self).\n",
      " |  \n",
      " |  __reversed__(self, /)\n",
      " |      Return a reverse iterator over the list.\n",
      " |  \n",
      " |  __rmul__(self, value, /)\n",
      " |      Return value*self.\n",
      " |  \n",
      " |  __setitem__(self, key, value, /)\n",
      " |      Set self[key] to value.\n",
      " |  \n",
      " |  __sizeof__(self, /)\n",
      " |      Return the size of the list in memory, in bytes.\n",
      " |  \n",
      " |  append(self, object, /)\n",
      " |      Append object to the end of the list.\n",
      " |  \n",
      " |  clear(self, /)\n",
      " |      Remove all items from list.\n",
      " |  \n",
      " |  copy(self, /)\n",
      " |      Return a shallow copy of the list.\n",
      " |  \n",
      " |  count(self, value, /)\n",
      " |      Return number of occurrences of value.\n",
      " |  \n",
      " |  extend(self, iterable, /)\n",
      " |      Extend list by appending elements from the iterable.\n",
      " |  \n",
      " |  index(self, value, start=0, stop=9223372036854775807, /)\n",
      " |      Return first index of value.\n",
      " |      \n",
      " |      Raises ValueError if the value is not present.\n",
      " |  \n",
      " |  insert(self, index, object, /)\n",
      " |      Insert object before index.\n",
      " |  \n",
      " |  pop(self, index=-1, /)\n",
      " |      Remove and return item at index (default last).\n",
      " |      \n",
      " |      Raises IndexError if list is empty or index is out of range.\n",
      " |  \n",
      " |  remove(self, value, /)\n",
      " |      Remove first occurrence of value.\n",
      " |      \n",
      " |      Raises ValueError if the value is not present.\n",
      " |  \n",
      " |  reverse(self, /)\n",
      " |      Reverse *IN PLACE*.\n",
      " |  \n",
      " |  sort(self, /, *, key=None, reverse=False)\n",
      " |      Sort the list in ascending order and return None.\n",
      " |      \n",
      " |      The sort is in-place (i.e. the list itself is modified) and stable (i.e. the\n",
      " |      order of two equal elements is maintained).\n",
      " |      \n",
      " |      If a key function is given, apply it once to each list item and sort them,\n",
      " |      ascending or descending, according to their function values.\n",
      " |      \n",
      " |      The reverse flag can be set to sort in descending order.\n",
      " |  \n",
      " |  ----------------------------------------------------------------------\n",
      " |  Static methods defined here:\n",
      " |  \n",
      " |  __new__(*args, **kwargs) from builtins.type\n",
      " |      Create and return a new object.  See help(type) for accurate signature.\n",
      " |  \n",
      " |  ----------------------------------------------------------------------\n",
      " |  Data and other attributes defined here:\n",
      " |  \n",
      " |  __hash__ = None\n",
      "\n"
     ]
    }
   ],
   "source": [
    "help(class_names)"
   ]
  },
  {
   "cell_type": "code",
   "execution_count": 3,
   "id": "b666a5ea",
   "metadata": {
    "ExecuteTime": {
     "end_time": "2021-08-10T12:29:55.321333Z",
     "start_time": "2021-08-10T12:29:55.306648Z"
    }
   },
   "outputs": [
    {
     "name": "stdout",
     "output_type": "stream",
     "text": [
      "image_datasets의 key값 :  dict_keys(['train', 'val'])\n",
      "\n",
      "image_datasets의 value 값 :  dict_values([Dataset ImageFolder\n",
      "    Number of datapoints: 244\n",
      "    Root location: hymenoptera_data\\train\n",
      "    StandardTransform\n",
      "Transform: Compose(\n",
      "               RandomResizedCrop(size=(224, 224), scale=(0.08, 1.0), ratio=(0.75, 1.3333), interpolation=bilinear)\n",
      "               RandomHorizontalFlip(p=0.5)\n",
      "               ToTensor()\n",
      "               Normalize(mean=[0.485, 0.456, 0.406], std=[0.229, 0.224, 0.225])\n",
      "           ), Dataset ImageFolder\n",
      "    Number of datapoints: 153\n",
      "    Root location: hymenoptera_data\\val\n",
      "    StandardTransform\n",
      "Transform: Compose(\n",
      "               Resize(size=256, interpolation=bilinear, max_size=None, antialias=None)\n",
      "               CenterCrop(size=(224, 224))\n",
      "               ToTensor()\n",
      "               Normalize(mean=[0.485, 0.456, 0.406], std=[0.229, 0.224, 0.225])\n",
      "           )])\n",
      "dataloaders의 keys값 :  dict_keys(['train', 'val'])\n",
      "dataloaders의 value값 :  dict_values([<torch.utils.data.dataloader.DataLoader object at 0x00000229AE64B760>, <torch.utils.data.dataloader.DataLoader object at 0x00000229B3D8C7C0>])\n"
     ]
    }
   ],
   "source": [
    "# image_datsets의 key값\n",
    "print(\"image_datasets의 key값 : \", image_datasets.keys())\n",
    "\n",
    "# image_datasets의 value값\n",
    "print(\"\\nimage_datasets의 value 값 : \", image_datasets.values())\n",
    "\n",
    "print(\"dataloaders의 keys값 : \", dataloaders.keys())\n",
    "print(\"dataloaders의 value값 : \", dataloaders.values())"
   ]
  },
  {
   "cell_type": "markdown",
   "id": "e0ae7349",
   "metadata": {},
   "source": [
    "num_workers : https://jybaek.tistory.com/799\n",
    "\n",
    "class_names = image_datasets['train'].classes : 구글링해도 안나옴..."
   ]
  },
  {
   "cell_type": "markdown",
   "id": "51ed98f0",
   "metadata": {},
   "source": [
    "## Visualize a few images"
   ]
  },
  {
   "cell_type": "code",
   "execution_count": 4,
   "id": "9efd268a",
   "metadata": {
    "ExecuteTime": {
     "end_time": "2021-08-10T12:29:56.565699Z",
     "start_time": "2021-08-10T12:29:55.322330Z"
    }
   },
   "outputs": [
    {
     "name": "stdout",
     "output_type": "stream",
     "text": [
      "tensor([0, 1, 1, 0])\n",
      "out.shape :  torch.Size([3, 228, 906])\n",
      "inp.shape :  torch.Size([3, 228, 906])\n",
      "inp.shape(transpose) :  (228, 906, 3)\n"
     ]
    },
    {
     "data": {
      "image/png": "[encoded data removed]",
      "text/plain": [
       "<Figure size 432x288 with 1 Axes>"
      ]
     },
     "metadata": {
      "needs_background": "light"
     },
     "output_type": "display_data"
    }
   ],
   "source": [
    "def imshow(inp, title=None):\n",
    "    \"\"\"Imshow for Tensor. inp : Tensor\"\"\"\n",
    "    print(\"inp.shape : \", inp.shape)\n",
    "    inp = inp.numpy().transpose((1, 2, 0))\n",
    "    print(\"inp.shape(transpose) : \", inp.shape)\n",
    "    mean = np.array([0.485, 0.456, 0.406])\n",
    "    std = np.array([0.229, 0.224, 0.225])\n",
    "    inp = std * inp + mean\n",
    "    \n",
    "#     # inp 1\n",
    "#     print(\"inp 1 : \", inp)\n",
    "    \n",
    "    inp = np.clip(inp, 0, 1)\n",
    "\n",
    "#     # inp 2\n",
    "#     print(\"inp 2 : \", inp)    \n",
    "    \n",
    "    plt.imshow(inp)\n",
    "\n",
    "    if title is not None:\n",
    "        plt.title(title)\n",
    "        \n",
    "    plt.pause(0.001)  # pause a bit so that plots are updated\n",
    "\n",
    "\n",
    "# Get a batch of training data\n",
    "inputs, classes = next(iter(dataloaders['train']))\n",
    "\n",
    "# print(inputs)\n",
    "print(classes) # => 0은 ants, 1은 bees\n",
    "\n",
    "# Make a grid from batch\n",
    "out = torchvision.utils.make_grid(inputs)\n",
    "print(\"out.shape : \", out.shape)\n",
    "\n",
    "imshow(out, title=[class_names[x] for x in classes])"
   ]
  },
  {
   "cell_type": "markdown",
   "id": "1a537bba",
   "metadata": {},
   "source": [
    "***numpy.clip(array, min, max)***  \n",
    ": array 내의 element들에 대해서 min 값 보다 작은 값들을 min값으로 바꿔주고 max 값 보다 큰 값들을 max값으로 바꿔주는 함수\n",
    "\n",
    "***iter & next***  \n",
    "https://dojang.io/mod/page/view.php?id=2408\n",
    "\n",
    "***np.transpose***  \n",
    "https://pybasall.tistory.com/124\n",
    "\n",
    "***make_grid***  \n",
    "https://pytorch.org/vision/stable/utils.html#:~:text=torchvision.utils.make_grid\n",
    "\n",
    "***pyplot.imshow()***  \n",
    "imshow 입력 값은 (M, N, 3) => (행, 열, 3채널)  \n",
    "imshow에 입력으로 넣기위해 transpose 사용함  \n",
    "https://matplotlib.org/stable/api/_as_gen/matplotlib.pyplot.imshow.html#:~:text=(M%2C%20N%2C%203)%3A%20an%20image%20with%20RGB%20values%20(0-1%20float%20or%200-255%20int)."
   ]
  },
  {
   "cell_type": "code",
   "execution_count": 5,
   "id": "ac9aeca9",
   "metadata": {
    "ExecuteTime": {
     "end_time": "2021-08-10T12:29:56.581803Z",
     "start_time": "2021-08-10T12:29:56.566675Z"
    }
   },
   "outputs": [
    {
     "data": {
      "text/plain": [
       "torch.Size([3, 228, 906])"
      ]
     },
     "execution_count": 5,
     "metadata": {},
     "output_type": "execute_result"
    }
   ],
   "source": [
    "out.shape"
   ]
  },
  {
   "cell_type": "code",
   "execution_count": 6,
   "id": "2d70f9f1",
   "metadata": {
    "ExecuteTime": {
     "end_time": "2021-08-10T12:29:56.597782Z",
     "start_time": "2021-08-10T12:29:56.582793Z"
    }
   },
   "outputs": [
    {
     "data": {
      "text/plain": [
       "torch.Size([4, 3, 224, 224])"
      ]
     },
     "execution_count": 6,
     "metadata": {},
     "output_type": "execute_result"
    }
   ],
   "source": [
    "inputs.shape"
   ]
  },
  {
   "cell_type": "code",
   "execution_count": 7,
   "id": "4bd16882",
   "metadata": {
    "ExecuteTime": {
     "end_time": "2021-08-10T12:29:56.613696Z",
     "start_time": "2021-08-10T12:29:56.598780Z"
    }
   },
   "outputs": [
    {
     "data": {
      "text/plain": [
       "torch.Size([4])"
      ]
     },
     "execution_count": 7,
     "metadata": {},
     "output_type": "execute_result"
    }
   ],
   "source": [
    "classes.shape"
   ]
  },
  {
   "cell_type": "code",
   "execution_count": 8,
   "id": "4dc5ebbb",
   "metadata": {
    "ExecuteTime": {
     "end_time": "2021-08-10T12:29:56.628655Z",
     "start_time": "2021-08-10T12:29:56.614694Z"
    }
   },
   "outputs": [
    {
     "name": "stdout",
     "output_type": "stream",
     "text": [
      "torch.Size([4, 3, 224, 224])\n",
      "torch.Size([3, 228, 906])\n"
     ]
    }
   ],
   "source": [
    "print(inputs.shape)\n",
    "\n",
    "A = torchvision.utils.make_grid(inputs)\n",
    "print(A.shape)"
   ]
  },
  {
   "cell_type": "code",
   "execution_count": 9,
   "id": "28768f80",
   "metadata": {
    "ExecuteTime": {
     "end_time": "2021-08-10T12:29:56.644613Z",
     "start_time": "2021-08-10T12:29:56.629653Z"
    }
   },
   "outputs": [
    {
     "name": "stdout",
     "output_type": "stream",
     "text": [
      "Help on function make_grid in module torchvision.utils:\n",
      "\n",
      "make_grid(tensor: Union[torch.Tensor, List[torch.Tensor]], nrow: int = 8, padding: int = 2, normalize: bool = False, value_range: Union[Tuple[int, int], NoneType] = None, scale_each: bool = False, pad_value: int = 0, **kwargs) -> torch.Tensor\n",
      "    Make a grid of images.\n",
      "    \n",
      "    Args:\n",
      "        tensor (Tensor or list): 4D mini-batch Tensor of shape (B x C x H x W)\n",
      "            or a list of images all of the same size.\n",
      "        nrow (int, optional): Number of images displayed in each row of the grid.\n",
      "            The final grid size is ``(B / nrow, nrow)``. Default: ``8``.\n",
      "        padding (int, optional): amount of padding. Default: ``2``.\n",
      "        normalize (bool, optional): If True, shift the image to the range (0, 1),\n",
      "            by the min and max values specified by :attr:`range`. Default: ``False``.\n",
      "        value_range (tuple, optional): tuple (min, max) where min and max are numbers,\n",
      "            then these numbers are used to normalize the image. By default, min and max\n",
      "            are computed from the tensor.\n",
      "        scale_each (bool, optional): If ``True``, scale each image in the batch of\n",
      "            images separately rather than the (min, max) over all images. Default: ``False``.\n",
      "        pad_value (float, optional): Value for the padded pixels. Default: ``0``.\n",
      "    \n",
      "    Returns:\n",
      "        grid (Tensor): the tensor containing grid of images.\n",
      "\n"
     ]
    }
   ],
   "source": [
    "help(torchvision.utils.make_grid)"
   ]
  },
  {
   "cell_type": "markdown",
   "id": "2b8f1af9",
   "metadata": {},
   "source": [
    "## Training the model  \n",
    "https://pytorch.org/tutorials/beginner/transfer_learning_tutorial.html#:~:text=x%20in%20classes%5D)-,Training%20the%20model,-Now%2C%20let%E2%80%99s%20write  \n",
    "- Scheduling the learning rate\n",
    "- Saving the best model"
   ]
  },
  {
   "cell_type": "code",
   "execution_count": 10,
   "id": "cbc57a01",
   "metadata": {
    "ExecuteTime": {
     "end_time": "2021-08-10T12:29:56.659573Z",
     "start_time": "2021-08-10T12:29:56.645610Z"
    }
   },
   "outputs": [],
   "source": [
    "def train_model(model, criterion, optimizer, scheduler, num_epochs=25):\n",
    "    since = time.time()\n",
    "\n",
    "    best_model_wts = copy.deepcopy(model.state_dict())\n",
    "    best_acc = 0.0\n",
    "\n",
    "    for epoch in range(num_epochs):\n",
    "        print('Epoch {}/{}'.format(epoch, num_epochs - 1))\n",
    "        print('-' * 10)\n",
    "\n",
    "        # Each epoch has a training and validation phase\n",
    "        for phase in ['train', 'val']:\n",
    "            if phase == 'train':\n",
    "                model.train()  # Set model to training mode\n",
    "            else:\n",
    "                model.eval()   # Set model to evaluate mode\n",
    "\n",
    "            running_loss = 0.0\n",
    "            running_corrects = 0\n",
    "\n",
    "            # Iterate over data.\n",
    "            for inputs, labels in dataloaders[phase]:\n",
    "                inputs = inputs.to(device)\n",
    "                labels = labels.to(device)\n",
    "\n",
    "                # zero the parameter gradients\n",
    "                optimizer.zero_grad()\n",
    "\n",
    "                # forward\n",
    "                # track history if only in train\n",
    "                with torch.set_grad_enabled(phase == 'train'):\n",
    "                    outputs = model(inputs)\n",
    "                    _, preds = torch.max(outputs, 1)\n",
    "                    loss = criterion(outputs, labels)\n",
    "\n",
    "                    # backward + optimize only if in training phase\n",
    "                    if phase == 'train':\n",
    "                        loss.backward()\n",
    "                        optimizer.step()\n",
    "\n",
    "                # statistics\n",
    "                running_loss += loss.item() * inputs.size(0)\n",
    "                running_corrects += torch.sum(preds == labels.data)\n",
    "            if phase == 'train':\n",
    "                scheduler.step()\n",
    "\n",
    "            epoch_loss = running_loss / dataset_sizes[phase]\n",
    "            epoch_acc = running_corrects.double() / dataset_sizes[phase]\n",
    "\n",
    "            print('{} Loss: {:.4f} Acc: {:.4f}'.format(\n",
    "                phase, epoch_loss, epoch_acc))\n",
    "\n",
    "            # deep copy the model\n",
    "            if phase == 'val' and epoch_acc > best_acc:\n",
    "                best_acc = epoch_acc\n",
    "                best_model_wts = copy.deepcopy(model.state_dict())\n",
    "\n",
    "        print()\n",
    "\n",
    "    time_elapsed = time.time() - since\n",
    "    print('Training complete in {:.0f}m {:.0f}s'.format(\n",
    "        time_elapsed // 60, time_elapsed % 60))\n",
    "    print('Best val Acc: {:4f}'.format(best_acc))\n",
    "\n",
    "    # load best model weights\n",
    "    model.load_state_dict(best_model_wts)\n",
    "    return model"
   ]
  },
  {
   "cell_type": "markdown",
   "id": "6c52edba",
   "metadata": {
    "ExecuteTime": {
     "end_time": "2021-08-10T11:43:05.035511Z",
     "start_time": "2021-08-10T11:43:05.013553Z"
    }
   },
   "source": [
    "***model.state_dict()***  \n",
    "https://pytorch.org/tutorials/recipes/recipes/what_is_state_dict.html  \n",
    "\n",
    "***with***  \n",
    "https://m.blog.naver.com/PostView.naver?isHttpsRedirect=true&blogId=wideeyed&logNo=221653260516  \n",
    "\n",
    "***_, pred***  \n",
    "https://mingrammer.com/underscore-in-python/#:~:text=_%20*%2020%0A600-,2.%20%EA%B0%92%EC%9D%84%20%EB%AC%B4%EC%8B%9C%ED%95%98%EA%B3%A0%20%EC%8B%B6%EC%9D%80%20%EA%B2%BD%EC%9A%B0,-_%EB%8A%94%20%EB%98%90%ED%95%9C"
   ]
  },
  {
   "cell_type": "markdown",
   "id": "42c0c760",
   "metadata": {},
   "source": [
    "## Visualizing the model predictions  \n",
    "Generic function to display predictions for a few images  \n"
   ]
  },
  {
   "cell_type": "code",
   "execution_count": 11,
   "id": "4b9319d3",
   "metadata": {
    "ExecuteTime": {
     "end_time": "2021-08-10T12:29:56.675530Z",
     "start_time": "2021-08-10T12:29:56.660570Z"
    }
   },
   "outputs": [],
   "source": [
    "def visualize_model(model, num_images=6):\n",
    "    was_training = model.training\n",
    "    model.eval()\n",
    "    images_so_far = 0\n",
    "    fig = plt.figure()\n",
    "\n",
    "    with torch.no_grad():\n",
    "        for i, (inputs, labels) in enumerate(dataloaders['val']):\n",
    "            inputs = inputs.to(device)\n",
    "            labels = labels.to(device)\n",
    "\n",
    "            outputs = model(inputs)\n",
    "            _, preds = torch.max(outputs, 1)\n",
    "\n",
    "            for j in range(inputs.size()[0]):\n",
    "                images_so_far += 1\n",
    "                ax = plt.subplot(num_images//2, 2, images_so_far)\n",
    "                ax.axis('off')\n",
    "                ax.set_title('predicted: {}'.format(class_names[preds[j]]))\n",
    "                imshow(inputs.cpu().data[j])\n",
    "\n",
    "                if images_so_far == num_images:\n",
    "                    model.train(mode=was_training)\n",
    "                    return\n",
    "        model.train(mode=was_training)"
   ]
  },
  {
   "cell_type": "markdown",
   "id": "12ac85ce",
   "metadata": {},
   "source": [
    "***torch.no_grad() & model.eval()***  \n",
    "https://coffeedjimmy.github.io/pytorch/2019/11/05/pytorch_nograd_vs_train_eval/"
   ]
  },
  {
   "cell_type": "markdown",
   "id": "d74def45",
   "metadata": {},
   "source": [
    "## Finetuning the convnet  \n",
    "Load a pretrained model and reset final fully connected layer."
   ]
  },
  {
   "cell_type": "code",
   "execution_count": 12,
   "id": "d1f881d9",
   "metadata": {
    "ExecuteTime": {
     "end_time": "2021-08-10T12:29:57.905804Z",
     "start_time": "2021-08-10T12:29:56.676528Z"
    }
   },
   "outputs": [],
   "source": [
    "model_ft = models.resnet18(pretrained=True)\n",
    "num_ftrs = model_ft.fc.in_features\n",
    "# Here the size of each output sample is set to 2.\n",
    "# Alternatively, it can be generalized to nn.Linear(num_ftrs, len(class_names)).\n",
    "model_ft.fc = nn.Linear(num_ftrs, 2)\n",
    "\n",
    "model_ft = model_ft.to(device)\n",
    "\n",
    "criterion = nn.CrossEntropyLoss()\n",
    "\n",
    "# Observe that all parameters are being optimized\n",
    "optimizer_ft = optim.SGD(model_ft.parameters(), lr=0.001, momentum=0.9)\n",
    "\n",
    "# Decay LR by a factor of 0.1 every 7 epochs\n",
    "exp_lr_scheduler = lr_scheduler.StepLR(optimizer_ft, step_size=7, gamma=0.1)"
   ]
  },
  {
   "cell_type": "markdown",
   "id": "4a3691f3",
   "metadata": {},
   "source": [
    "***model_ft.fc***  \n",
    "https://steemit.com/kr/@codingart/7-30-pytorch-transfer-learning-iv-fine-tuning  "
   ]
  },
  {
   "cell_type": "markdown",
   "id": "e599fa47",
   "metadata": {},
   "source": [
    "## Train and evaluate  \n",
    "It should take around 15-25 min on CPU. On GPU though, it takes less than a minute."
   ]
  },
  {
   "cell_type": "code",
   "execution_count": 13,
   "id": "ee5559be",
   "metadata": {
    "ExecuteTime": {
     "end_time": "2021-08-10T12:31:21.123114Z",
     "start_time": "2021-08-10T12:29:57.906797Z"
    }
   },
   "outputs": [
    {
     "name": "stdout",
     "output_type": "stream",
     "text": [
      "Epoch 0/24\n",
      "----------\n"
     ]
    },
    {
     "name": "stderr",
     "output_type": "stream",
     "text": [
      "C:\\Users\\Geun\\anaconda3\\lib\\site-packages\\torch\\nn\\functional.py:718: UserWarning: Named tensors and all their associated APIs are an experimental feature and subject to change. Please do not use them for anything important until they are released as stable. (Triggered internally at  ..\\c10/core/TensorImpl.h:1156.)\n",
      "  return torch.max_pool2d(input, kernel_size, stride, padding, dilation, ceil_mode)\n"
     ]
    },
    {
     "name": "stdout",
     "output_type": "stream",
     "text": [
      "train Loss: 0.5313 Acc: 0.7459\n",
      "val Loss: 0.2069 Acc: 0.9281\n",
      "\n",
      "Epoch 1/24\n",
      "----------\n",
      "train Loss: 0.4976 Acc: 0.7992\n",
      "val Loss: 0.2209 Acc: 0.9085\n",
      "\n",
      "Epoch 2/24\n",
      "----------\n",
      "train Loss: 0.6550 Acc: 0.7459\n",
      "val Loss: 0.1792 Acc: 0.9216\n",
      "\n",
      "Epoch 3/24\n",
      "----------\n",
      "train Loss: 0.4578 Acc: 0.8238\n",
      "val Loss: 0.3276 Acc: 0.8758\n",
      "\n",
      "Epoch 4/24\n",
      "----------\n",
      "train Loss: 0.5247 Acc: 0.7910\n",
      "val Loss: 0.2985 Acc: 0.9020\n",
      "\n",
      "Epoch 5/24\n",
      "----------\n",
      "train Loss: 0.5450 Acc: 0.7910\n",
      "val Loss: 0.8007 Acc: 0.7516\n",
      "\n",
      "Epoch 6/24\n",
      "----------\n",
      "train Loss: 0.4190 Acc: 0.8443\n",
      "val Loss: 0.3615 Acc: 0.8627\n",
      "\n",
      "Epoch 7/24\n",
      "----------\n",
      "train Loss: 0.4739 Acc: 0.8279\n",
      "val Loss: 0.1345 Acc: 0.9281\n",
      "\n",
      "Epoch 8/24\n",
      "----------\n",
      "train Loss: 0.3370 Acc: 0.8607\n",
      "val Loss: 0.1678 Acc: 0.9346\n",
      "\n",
      "Epoch 9/24\n",
      "----------\n",
      "train Loss: 0.4042 Acc: 0.8238\n",
      "val Loss: 0.1443 Acc: 0.9281\n",
      "\n",
      "Epoch 10/24\n",
      "----------\n",
      "train Loss: 0.2764 Acc: 0.8607\n",
      "val Loss: 0.1589 Acc: 0.9346\n",
      "\n",
      "Epoch 11/24\n",
      "----------\n",
      "train Loss: 0.2846 Acc: 0.8730\n",
      "val Loss: 0.1959 Acc: 0.9216\n",
      "\n",
      "Epoch 12/24\n",
      "----------\n",
      "train Loss: 0.4208 Acc: 0.8074\n",
      "val Loss: 0.1920 Acc: 0.9150\n",
      "\n",
      "Epoch 13/24\n",
      "----------\n",
      "train Loss: 0.1804 Acc: 0.9385\n",
      "val Loss: 0.1863 Acc: 0.9216\n",
      "\n",
      "Epoch 14/24\n",
      "----------\n",
      "train Loss: 0.3041 Acc: 0.8689\n",
      "val Loss: 0.1677 Acc: 0.9216\n",
      "\n",
      "Epoch 15/24\n",
      "----------\n",
      "train Loss: 0.3435 Acc: 0.8402\n",
      "val Loss: 0.1893 Acc: 0.9216\n",
      "\n",
      "Epoch 16/24\n",
      "----------\n",
      "train Loss: 0.3038 Acc: 0.8607\n",
      "val Loss: 0.1551 Acc: 0.9412\n",
      "\n",
      "Epoch 17/24\n",
      "----------\n",
      "train Loss: 0.3923 Acc: 0.8361\n",
      "val Loss: 0.1673 Acc: 0.9281\n",
      "\n",
      "Epoch 18/24\n",
      "----------\n",
      "train Loss: 0.3508 Acc: 0.8607\n",
      "val Loss: 0.1532 Acc: 0.9281\n",
      "\n",
      "Epoch 19/24\n",
      "----------\n",
      "train Loss: 0.2860 Acc: 0.8730\n",
      "val Loss: 0.1821 Acc: 0.9150\n",
      "\n",
      "Epoch 20/24\n",
      "----------\n",
      "train Loss: 0.3593 Acc: 0.8689\n",
      "val Loss: 0.2008 Acc: 0.9281\n",
      "\n",
      "Epoch 21/24\n",
      "----------\n",
      "train Loss: 0.2987 Acc: 0.8730\n",
      "val Loss: 0.1691 Acc: 0.9281\n",
      "\n",
      "Epoch 22/24\n",
      "----------\n",
      "train Loss: 0.2726 Acc: 0.8893\n",
      "val Loss: 0.1598 Acc: 0.9216\n",
      "\n",
      "Epoch 23/24\n",
      "----------\n",
      "train Loss: 0.3283 Acc: 0.8402\n",
      "val Loss: 0.1663 Acc: 0.9346\n",
      "\n",
      "Epoch 24/24\n",
      "----------\n",
      "train Loss: 0.4036 Acc: 0.8320\n",
      "val Loss: 0.1746 Acc: 0.9150\n",
      "\n",
      "Training complete in 1m 23s\n",
      "Best val Acc: 0.941176\n"
     ]
    }
   ],
   "source": [
    "model_ft = train_model(model_ft, criterion, optimizer_ft, exp_lr_scheduler,\n",
    "                       num_epochs=25)"
   ]
  },
  {
   "cell_type": "code",
   "execution_count": 14,
   "id": "ce8ae3c2",
   "metadata": {
    "ExecuteTime": {
     "end_time": "2021-08-10T12:31:22.540244Z",
     "start_time": "2021-08-10T12:31:21.123114Z"
    }
   },
   "outputs": [
    {
     "name": "stdout",
     "output_type": "stream",
     "text": [
      "inp.shape :  torch.Size([3, 224, 224])\n",
      "inp.shape(transpose) :  (224, 224, 3)\n"
     ]
    },
    {
     "data": {
      "image/png": "[encoded data removed]",
      "text/plain": [
       "<Figure size 432x288 with 1 Axes>"
      ]
     },
     "metadata": {
      "needs_background": "light"
     },
     "output_type": "display_data"
    },
    {
     "name": "stdout",
     "output_type": "stream",
     "text": [
      "inp.shape :  torch.Size([3, 224, 224])\n",
      "inp.shape(transpose) :  (224, 224, 3)\n"
     ]
    },
    {
     "data": {
      "image/png": "[encoded data removed]",
      "text/plain": [
       "<Figure size 432x288 with 1 Axes>"
      ]
     },
     "metadata": {
      "needs_background": "light"
     },
     "output_type": "display_data"
    },
    {
     "name": "stdout",
     "output_type": "stream",
     "text": [
      "inp.shape :  torch.Size([3, 224, 224])\n",
      "inp.shape(transpose) :  (224, 224, 3)\n"
     ]
    },
    {
     "data": {
      "image/png": "[encoded data removed]",
      "text/plain": [
       "<Figure size 432x288 with 1 Axes>"
      ]
     },
     "metadata": {
      "needs_background": "light"
     },
     "output_type": "display_data"
    },
    {
     "name": "stdout",
     "output_type": "stream",
     "text": [
      "inp.shape :  torch.Size([3, 224, 224])\n",
      "inp.shape(transpose) :  (224, 224, 3)\n"
     ]
    },
    {
     "data": {
      "image/png": "[encoded data removed]",
      "text/plain": [
       "<Figure size 432x288 with 1 Axes>"
      ]
     },
     "metadata": {
      "needs_background": "light"
     },
     "output_type": "display_data"
    },
    {
     "name": "stdout",
     "output_type": "stream",
     "text": [
      "inp.shape :  torch.Size([3, 224, 224])\n",
      "inp.shape(transpose) :  (224, 224, 3)\n"
     ]
    },
    {
     "data": {
      "image/png": "[encoded data removed]",
      "text/plain": [
       "<Figure size 432x288 with 1 Axes>"
      ]
     },
     "metadata": {
      "needs_background": "light"
     },
     "output_type": "display_data"
    },
    {
     "name": "stdout",
     "output_type": "stream",
     "text": [
      "inp.shape :  torch.Size([3, 224, 224])\n",
      "inp.shape(transpose) :  (224, 224, 3)\n"
     ]
    },
    {
     "data": {
      "image/png": "[encoded data removed]",
      "text/plain": [
       "<Figure size 432x288 with 1 Axes>"
      ]
     },
     "metadata": {
      "needs_background": "light"
     },
     "output_type": "display_data"
    }
   ],
   "source": [
    "visualize_model(model_ft)"
   ]
  },
  {
   "cell_type": "markdown",
   "id": "8ec023f9",
   "metadata": {},
   "source": [
    "## ConvNet as fixed feature extractor  \n",
    "Here, we need to freeze all the network except the final layer. We need to set requires_grad == False to freeze the parameters so that the gradients are not computed in backward().\n",
    "\n",
    "You can read more about this in the documentation here.  \n",
    "https://pytorch.org/docs/notes/autograd.html#excluding-subgraphs-from-backward"
   ]
  },
  {
   "cell_type": "code",
   "execution_count": 15,
   "id": "a06620a0",
   "metadata": {
    "ExecuteTime": {
     "end_time": "2021-08-10T12:31:22.709787Z",
     "start_time": "2021-08-10T12:31:22.541237Z"
    }
   },
   "outputs": [],
   "source": [
    "model_conv = torchvision.models.resnet18(pretrained=True)\n",
    "for param in model_conv.parameters():\n",
    "    param.requires_grad = False\n",
    "\n",
    "# Parameters of newly constructed modules have requires_grad=True by default\n",
    "num_ftrs = model_conv.fc.in_features\n",
    "model_conv.fc = nn.Linear(num_ftrs, 2)\n",
    "\n",
    "model_conv = model_conv.to(device)\n",
    "\n",
    "criterion = nn.CrossEntropyLoss()\n",
    "\n",
    "# Observe that only parameters of final layer are being optimized as\n",
    "# opposed to before.\n",
    "optimizer_conv = optim.SGD(model_conv.fc.parameters(), lr=0.001, momentum=0.9)\n",
    "\n",
    "# Decay LR by a factor of 0.1 every 7 epochs\n",
    "exp_lr_scheduler = lr_scheduler.StepLR(optimizer_conv, step_size=7, gamma=0.1)"
   ]
  },
  {
   "cell_type": "code",
   "execution_count": 16,
   "id": "395f7fe3",
   "metadata": {
    "ExecuteTime": {
     "end_time": "2021-08-10T12:31:22.724772Z",
     "start_time": "2021-08-10T12:31:22.709787Z"
    }
   },
   "outputs": [
    {
     "data": {
      "text/plain": [
       "torch.Size([1000])"
      ]
     },
     "execution_count": 16,
     "metadata": {},
     "output_type": "execute_result"
    }
   ],
   "source": [
    "# imagenet에서 class가 1000개이므로 param.shape이 1000이 나온다.\n",
    "# 하지만 여기서는 2개의 class(ants, bees)로만 분류하면 되므로 바꾸어주어야 한다.\n",
    "param.shape"
   ]
  },
  {
   "cell_type": "markdown",
   "id": "215c9205",
   "metadata": {},
   "source": [
    "## Train and evaluate  \n",
    "On CPU this will take about half the time compared to previous scenario. This is expected as gradients don’t need to be computed for most of the network. However, forward does need to be computed."
   ]
  },
  {
   "cell_type": "code",
   "execution_count": 17,
   "id": "28f00fcf",
   "metadata": {
    "ExecuteTime": {
     "end_time": "2021-08-10T12:32:35.160504Z",
     "start_time": "2021-08-10T12:31:22.725745Z"
    }
   },
   "outputs": [
    {
     "name": "stdout",
     "output_type": "stream",
     "text": [
      "Epoch 0/24\n",
      "----------\n",
      "train Loss: 0.6628 Acc: 0.6557\n",
      "val Loss: 0.2033 Acc: 0.9412\n",
      "\n",
      "Epoch 1/24\n",
      "----------\n",
      "train Loss: 0.4030 Acc: 0.8361\n",
      "val Loss: 0.1867 Acc: 0.9542\n",
      "\n",
      "Epoch 2/24\n",
      "----------\n",
      "train Loss: 0.5118 Acc: 0.7705\n",
      "val Loss: 0.1863 Acc: 0.9281\n",
      "\n",
      "Epoch 3/24\n",
      "----------\n",
      "train Loss: 0.6134 Acc: 0.7582\n",
      "val Loss: 0.1893 Acc: 0.9412\n",
      "\n",
      "Epoch 4/24\n",
      "----------\n",
      "train Loss: 0.3587 Acc: 0.8566\n",
      "val Loss: 0.1932 Acc: 0.9346\n",
      "\n",
      "Epoch 5/24\n",
      "----------\n",
      "train Loss: 0.4349 Acc: 0.8074\n",
      "val Loss: 0.1876 Acc: 0.9346\n",
      "\n",
      "Epoch 6/24\n",
      "----------\n",
      "train Loss: 0.3525 Acc: 0.8402\n",
      "val Loss: 0.1848 Acc: 0.9477\n",
      "\n",
      "Epoch 7/24\n",
      "----------\n",
      "train Loss: 0.3319 Acc: 0.8402\n",
      "val Loss: 0.1909 Acc: 0.9542\n",
      "\n",
      "Epoch 8/24\n",
      "----------\n",
      "train Loss: 0.3583 Acc: 0.8156\n",
      "val Loss: 0.1947 Acc: 0.9477\n",
      "\n",
      "Epoch 9/24\n",
      "----------\n",
      "train Loss: 0.3783 Acc: 0.8484\n",
      "val Loss: 0.1863 Acc: 0.9477\n",
      "\n",
      "Epoch 10/24\n",
      "----------\n",
      "train Loss: 0.3276 Acc: 0.8811\n",
      "val Loss: 0.2045 Acc: 0.9346\n",
      "\n",
      "Epoch 11/24\n",
      "----------\n",
      "train Loss: 0.3693 Acc: 0.8197\n",
      "val Loss: 0.1809 Acc: 0.9477\n",
      "\n",
      "Epoch 12/24\n",
      "----------\n",
      "train Loss: 0.3276 Acc: 0.8607\n",
      "val Loss: 0.1817 Acc: 0.9477\n",
      "\n",
      "Epoch 13/24\n",
      "----------\n",
      "train Loss: 0.2602 Acc: 0.8934\n",
      "val Loss: 0.2096 Acc: 0.9477\n",
      "\n",
      "Epoch 14/24\n",
      "----------\n",
      "train Loss: 0.2790 Acc: 0.8811\n",
      "val Loss: 0.2032 Acc: 0.9477\n",
      "\n",
      "Epoch 15/24\n",
      "----------\n",
      "train Loss: 0.3096 Acc: 0.8811\n",
      "val Loss: 0.1899 Acc: 0.9542\n",
      "\n",
      "Epoch 16/24\n",
      "----------\n",
      "train Loss: 0.2877 Acc: 0.8525\n",
      "val Loss: 0.1833 Acc: 0.9542\n",
      "\n",
      "Epoch 17/24\n",
      "----------\n",
      "train Loss: 0.2476 Acc: 0.9057\n",
      "val Loss: 0.1909 Acc: 0.9477\n",
      "\n",
      "Epoch 18/24\n",
      "----------\n",
      "train Loss: 0.2606 Acc: 0.8770\n",
      "val Loss: 0.1756 Acc: 0.9477\n",
      "\n",
      "Epoch 19/24\n",
      "----------\n",
      "train Loss: 0.2742 Acc: 0.8730\n",
      "val Loss: 0.2153 Acc: 0.9346\n",
      "\n",
      "Epoch 20/24\n",
      "----------\n",
      "train Loss: 0.2855 Acc: 0.8689\n",
      "val Loss: 0.1901 Acc: 0.9542\n",
      "\n",
      "Epoch 21/24\n",
      "----------\n",
      "train Loss: 0.3495 Acc: 0.8279\n",
      "val Loss: 0.1835 Acc: 0.9477\n",
      "\n",
      "Epoch 22/24\n",
      "----------\n",
      "train Loss: 0.3559 Acc: 0.8566\n",
      "val Loss: 0.1807 Acc: 0.9542\n",
      "\n",
      "Epoch 23/24\n",
      "----------\n",
      "train Loss: 0.2611 Acc: 0.8811\n",
      "val Loss: 0.1946 Acc: 0.9542\n",
      "\n",
      "Epoch 24/24\n",
      "----------\n",
      "train Loss: 0.3380 Acc: 0.8607\n",
      "val Loss: 0.1919 Acc: 0.9477\n",
      "\n",
      "Training complete in 1m 12s\n",
      "Best val Acc: 0.954248\n"
     ]
    }
   ],
   "source": [
    "model_conv = train_model(model_conv, criterion, optimizer_conv,\n",
    "                         exp_lr_scheduler, num_epochs=25)"
   ]
  },
  {
   "cell_type": "code",
   "execution_count": 18,
   "id": "fd9e8f2c",
   "metadata": {
    "ExecuteTime": {
     "end_time": "2021-08-10T12:32:36.502824Z",
     "start_time": "2021-08-10T12:32:35.161501Z"
    }
   },
   "outputs": [
    {
     "name": "stdout",
     "output_type": "stream",
     "text": [
      "inp.shape :  torch.Size([3, 224, 224])\n",
      "inp.shape(transpose) :  (224, 224, 3)\n"
     ]
    },
    {
     "data": {
      "image/png": "[encoded data removed]",
      "text/plain": [
       "<Figure size 432x288 with 1 Axes>"
      ]
     },
     "metadata": {
      "needs_background": "light"
     },
     "output_type": "display_data"
    },
    {
     "name": "stdout",
     "output_type": "stream",
     "text": [
      "inp.shape :  torch.Size([3, 224, 224])\n",
      "inp.shape(transpose) :  (224, 224, 3)\n"
     ]
    },
    {
     "data": {
      "image/png": "[encoded data removed]",
      "text/plain": [
       "<Figure size 432x288 with 1 Axes>"
      ]
     },
     "metadata": {
      "needs_background": "light"
     },
     "output_type": "display_data"
    },
    {
     "name": "stdout",
     "output_type": "stream",
     "text": [
      "inp.shape :  torch.Size([3, 224, 224])\n",
      "inp.shape(transpose) :  (224, 224, 3)\n"
     ]
    },
    {
     "data": {
      "image/png": "[encoded data removed]",
      "text/plain": [
       "<Figure size 432x288 with 1 Axes>"
      ]
     },
     "metadata": {
      "needs_background": "light"
     },
     "output_type": "display_data"
    },
    {
     "name": "stdout",
     "output_type": "stream",
     "text": [
      "inp.shape :  torch.Size([3, 224, 224])\n",
      "inp.shape(transpose) :  (224, 224, 3)\n"
     ]
    },
    {
     "data": {
      "image/png": "[encoded data removed]",
      "text/plain": [
       "<Figure size 432x288 with 1 Axes>"
      ]
     },
     "metadata": {
      "needs_background": "light"
     },
     "output_type": "display_data"
    },
    {
     "name": "stdout",
     "output_type": "stream",
     "text": [
      "inp.shape :  torch.Size([3, 224, 224])\n",
      "inp.shape(transpose) :  (224, 224, 3)\n"
     ]
    },
    {
     "data": {
      "image/png": "[encoded data removed]",
      "text/plain": [
       "<Figure size 432x288 with 1 Axes>"
      ]
     },
     "metadata": {
      "needs_background": "light"
     },
     "output_type": "display_data"
    },
    {
     "name": "stdout",
     "output_type": "stream",
     "text": [
      "inp.shape :  torch.Size([3, 224, 224])\n",
      "inp.shape(transpose) :  (224, 224, 3)\n"
     ]
    },
    {
     "data": {
      "image/png": "[encoded data removed]",
      "text/plain": [
       "<Figure size 432x288 with 1 Axes>"
      ]
     },
     "metadata": {
      "needs_background": "light"
     },
     "output_type": "display_data"
    }
   ],
   "source": [
    "visualize_model(model_conv)\n",
    "\n",
    "plt.ioff()\n",
    "plt.show()"
   ]
  },
  {
   "cell_type": "code",
   "execution_count": null,
   "id": "ad11830c",
   "metadata": {},
   "outputs": [],
   "source": []
  },
  {
   "cell_type": "code",
   "execution_count": null,
   "id": "3b43deb5",
   "metadata": {},
   "outputs": [],
   "source": []
  }
 ],
 "metadata": {
  "kernelspec": {
   "display_name": "Python 3",
   "language": "python",
   "name": "python3"
  },
  "language_info": {
   "codemirror_mode": {
    "name": "ipython",
    "version": 3
   },
   "file_extension": ".py",
   "mimetype": "text/x-python",
   "name": "python",
   "nbconvert_exporter": "python",
   "pygments_lexer": "ipython3",
   "version": "3.8.11"
  },
  "toc": {
   "base_numbering": 1,
   "nav_menu": {},
   "number_sections": true,
   "sideBar": true,
   "skip_h1_title": false,
   "title_cell": "Table of Contents",
   "title_sidebar": "Contents",
   "toc_cell": false,
   "toc_position": {
    "height": "calc(100% - 180px)",
    "left": "10px",
    "top": "150px",
    "width": "165px"
   },
   "toc_section_display": true,
   "toc_window_display": true
  }
 },
 "nbformat": 4,
 "nbformat_minor": 5
}
